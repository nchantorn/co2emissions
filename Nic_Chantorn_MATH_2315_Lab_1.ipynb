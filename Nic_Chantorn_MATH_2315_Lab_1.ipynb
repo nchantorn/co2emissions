{
  "nbformat": 4,
  "nbformat_minor": 0,
  "metadata": {
    "colab": {
      "provenance": []
    },
    "kernelspec": {
      "name": "python3",
      "display_name": "Python 3"
    },
    "language_info": {
      "name": "python"
    }
  },
  "cells": [
    {
      "cell_type": "markdown",
      "source": [
        "## Imports"
      ],
      "metadata": {
        "id": "Av8gH1UmMgFv"
      }
    },
    {
      "cell_type": "code",
      "execution_count": 4,
      "metadata": {
        "id": "f9-cSwbcMJc7"
      },
      "outputs": [],
      "source": [
        "# Import pandas, numpy, and matplotlib\n",
        "import pandas as pd\n",
        "import numpy as np\n",
        "import matplotlib.pyplot as plt\n",
        "\n",
        "# seaborn is a data visualization library built on matplotlib\n",
        "import seaborn as sns \n",
        "\n",
        "# set the plotting style \n",
        "sns.set_style(\"whitegrid\")\n",
        "\n",
        "# Plot missing values\n",
        "import missingno as msno"
      ]
    },
    {
      "cell_type": "markdown",
      "source": [
        "## Lab introduction"
      ],
      "metadata": {
        "id": "3600arA2CaSv"
      }
    },
    {
      "cell_type": "markdown",
      "source": [
        "Use the greenhouse gas emission data set owid-co2-data.csv from Our World in Data to describe how the emission levels of the current top 10 CO2 emitters have changed over the last 50 years (1971 - 2020). \n",
        "\n"
      ],
      "metadata": {
        "id": "nuNtt1LwCj2t"
      }
    },
    {
      "cell_type": "markdown",
      "source": [
        "## Import and set up the data set"
      ],
      "metadata": {
        "id": "hrNAfmwpMj2L"
      }
    },
    {
      "cell_type": "markdown",
      "source": [
        "##### $\\rightarrow$ Use Pandas to load the file `owid-co2-data.csv` from https://github.com/owid/co2-data as a `DataFrame`. Name the `DataFrame` `df`."
      ],
      "metadata": {
        "id": "aQxUj8ChtEGr"
      }
    },
    {
      "cell_type": "code",
      "source": [
        "df = pd.read_csv('https://raw.githubusercontent.com/owid/co2-data/master/owid-co2-data.csv')"
      ],
      "metadata": {
        "id": "mP6bY7wtT8Bl"
      },
      "execution_count": 5,
      "outputs": []
    },
    {
      "cell_type": "markdown",
      "source": [
        "##### Solution"
      ],
      "metadata": {
        "id": "75igDlZQOqzQ"
      }
    },
    {
      "cell_type": "markdown",
      "source": [
        "Consult the [codebook](https://github.com/owid/co2-data/blob/master/owid-co2-codebook.csv) to see the description of each column.\n",
        "\n"
      ],
      "metadata": {
        "id": "jZAaO4glOZC1"
      }
    },
    {
      "cell_type": "markdown",
      "source": [
        "##### $\\rightarrow$ Select the rows corresponding to individual countries "
      ],
      "metadata": {
        "id": "oQvGwApO35VP"
      }
    },
    {
      "cell_type": "code",
      "source": [
        "df.loc[df['country'].isin([non_countires])]"
      ],
      "metadata": {
        "id": "p5_K687pIopq",
        "colab": {
          "base_uri": "https://localhost:8080/",
          "height": 131
        },
        "outputId": "e386ed29-7611-4546-f635-75c636aff8a5"
      },
      "execution_count": 6,
      "outputs": [
        {
          "output_type": "error",
          "ename": "SyntaxError",
          "evalue": "ignored",
          "traceback": [
            "\u001b[0;36m  File \u001b[0;32m\"<ipython-input-6-f2ca36578ef6>\"\u001b[0;36m, line \u001b[0;32m1\u001b[0m\n\u001b[0;31m    df.loc[df['country'].isin([non_countires])=false]\u001b[0m\n\u001b[0m                                              ^\u001b[0m\n\u001b[0;31mSyntaxError\u001b[0m\u001b[0;31m:\u001b[0m invalid syntax\n"
          ]
        }
      ]
    },
    {
      "cell_type": "markdown",
      "source": [
        "The `country` column of the data set contains some values that are groups of countries. We will remove these observations from the data set."
      ],
      "metadata": {
        "id": "CoBCrqDQK8RF"
      }
    },
    {
      "cell_type": "code",
      "source": [
        "non_countries = ['Africa', 'Africa (GCP)', 'Asia', 'Asia (GCP)', 'Asia (excl. China and India)', 'Central America (GCP)',\n",
        "                  'EU-27', 'Europe', 'Europe (excl. EU-27)', 'European Union (27) (GCP)', 'Europe (GCP)',\n",
        "                  'Europe (excl. EU-28)', 'European Union (27)', \n",
        "                  'European Union (28)', 'French Equatorial Africa', \n",
        "                  'French Guiana', 'French Polynesia', 'French West Africa',\n",
        "                  'High-income countries', 'International transport', \n",
        "                  'Low-income countries', 'Lower-middle-income countries', 'Mayotte', 'Middle East (GCP)',\n",
        "                  'Non-OECD (GCP)',\n",
        "                  'North America',  'North America (excl. USA)', 'North America (GCP)',\n",
        "                  'Oceania (GCP)', 'OECD (GCP)', \n",
        "                  'Panama Canal Zone','South America', 'South America (GCP)', 'Upper-middle-income countries', \n",
        "                  'World']"
      ],
      "metadata": {
        "id": "eD0vOVGQkTHq"
      },
      "execution_count": 2,
      "outputs": []
    },
    {
      "cell_type": "markdown",
      "source": [
        "Remove the rows corresponding to the non-countries."
      ],
      "metadata": {
        "id": "8gJuF0O9LoPY"
      }
    },
    {
      "cell_type": "markdown",
      "source": [
        "## Explore the data set"
      ],
      "metadata": {
        "id": "9_VL9S0ZL8eJ"
      }
    },
    {
      "cell_type": "markdown",
      "source": [
        "##### $\\rightarrow$ Display the head of the data frame"
      ],
      "metadata": {
        "id": "q6694yBOMD3F"
      }
    },
    {
      "cell_type": "markdown",
      "source": [
        "##### Solution"
      ],
      "metadata": {
        "id": "QwTFcX-IOpH9"
      }
    },
    {
      "cell_type": "markdown",
      "source": [
        "##### $\\rightarrow$ Use the `info` method further explore the data.\n",
        "1.  Are there any columns where the data type is obviously incorrect? For example, is there a variable that should be a number, but is coded as a string?\n",
        "2.  Do any of the columns have missing (null) values?"
      ],
      "metadata": {
        "id": "1HQFuZbmNCfO"
      }
    },
    {
      "cell_type": "markdown",
      "source": [
        "##### Solution"
      ],
      "metadata": {
        "id": "Kt-vodi7OoKB"
      }
    },
    {
      "cell_type": "markdown",
      "source": [
        "##### $\\rightarrow$ What years are present in the data set?"
      ],
      "metadata": {
        "id": "f89ETnavWcPa"
      }
    },
    {
      "cell_type": "markdown",
      "source": [
        "##### Solution"
      ],
      "metadata": {
        "id": "yUQLOAJrXGNk"
      }
    },
    {
      "cell_type": "markdown",
      "source": [
        "## Analysis of top emissions in 2020"
      ],
      "metadata": {
        "id": "GmVvf18573HS"
      }
    },
    {
      "cell_type": "markdown",
      "metadata": {
        "id": "2kwe790ATm0S"
      },
      "source": [
        "##### $\\rightarrow$ Find the top 10 emitters of total CO$_2$ in 2020.\n",
        "\n"
      ]
    },
    {
      "cell_type": "markdown",
      "source": [
        "##### Solution"
      ],
      "metadata": {
        "id": "aCS-tOXPZC4W"
      }
    },
    {
      "cell_type": "markdown",
      "source": [
        "##### $\\rightarrow$ Make a histogram of total CO$_2$ emissions in 2020. Make the plot on a density scale."
      ],
      "metadata": {
        "id": "Efky-9yTe3lG"
      }
    },
    {
      "cell_type": "markdown",
      "source": [
        "##### Solution"
      ],
      "metadata": {
        "id": "8A_SQ6jblun4"
      }
    },
    {
      "cell_type": "markdown",
      "source": [
        "##### $\\rightarrow$ Make a boxplot of total CO$_2$ emissions in 2020. Add a strip plot on top of the boxplot."
      ],
      "metadata": {
        "id": "celYP5XTeWqF"
      }
    },
    {
      "cell_type": "markdown",
      "source": [
        "##### Solution"
      ],
      "metadata": {
        "id": "hIVTfC9AlvOg"
      }
    },
    {
      "cell_type": "markdown",
      "source": [
        "##### $\\rightarrow$ Are the CO$_2$ emissions of the top 10 emitters in 2020 outliers in the distribution?"
      ],
      "metadata": {
        "id": "_c8wgaqjttmv"
      }
    },
    {
      "cell_type": "markdown",
      "source": [
        "##### Solution"
      ],
      "metadata": {
        "id": "su0jIszbt5GJ"
      }
    },
    {
      "cell_type": "markdown",
      "source": [
        "## Emission trend over time"
      ],
      "metadata": {
        "id": "O54iekf42lUR"
      }
    },
    {
      "cell_type": "markdown",
      "source": [
        "##### $\\rightarrow$ Is the data set missing any CO$_2$ emission values for the top 10 emitters in 2020 over the years 1971 to 2020?"
      ],
      "metadata": {
        "id": "TCxt51aq2q2a"
      }
    },
    {
      "cell_type": "markdown",
      "source": [
        "##### Solution"
      ],
      "metadata": {
        "id": "kYwe4Fi42442"
      }
    },
    {
      "cell_type": "markdown",
      "source": [
        "##### $\\rightarrow$ Plot the time plot of the total CO$_2$ emissions from 1971 to 2020 for the top 10 emitters in 2020."
      ],
      "metadata": {
        "id": "D1zXZpkHW-rt"
      }
    },
    {
      "cell_type": "markdown",
      "source": [
        "##### Solution"
      ],
      "metadata": {
        "id": "ejVOrFd73U_k"
      }
    },
    {
      "cell_type": "markdown",
      "source": [
        "##### $\\rightarrow$ Again, plot the time plot of the total CO$_2$ emissions from 1971 to 2020 for the top 10 emitters in 2020, but now also include a plot of the mean total CO$_2$ emissions over all countries on the same plot."
      ],
      "metadata": {
        "id": "wUbmtc5PYpqF"
      }
    },
    {
      "cell_type": "markdown",
      "source": [
        "##### Solution"
      ],
      "metadata": {
        "id": "0a4JaJuZ3XrK"
      }
    },
    {
      "cell_type": "markdown",
      "source": [
        "##### $\\rightarrow$ Given the large difference between the smallest and largest values, it can help to plot the results on a log scale. Produce the plot of the top 10 emitters and the mean with CO$_2$ emissions on a log scale."
      ],
      "metadata": {
        "id": "SPzueyq4cyXK"
      }
    },
    {
      "cell_type": "markdown",
      "source": [
        "##### Solution"
      ],
      "metadata": {
        "id": "B4MDs4FZlyLg"
      }
    },
    {
      "cell_type": "markdown",
      "source": [
        "##### $\\rightarrow$ Comment on the trend in CO$_2$ emissions from these countries over the last 50 years."
      ],
      "metadata": {
        "id": "bnoVsmMtitYN"
      }
    },
    {
      "cell_type": "markdown",
      "source": [
        "##### Solution"
      ],
      "metadata": {
        "id": "pf0I9hgZlYvb"
      }
    }
  ]
}